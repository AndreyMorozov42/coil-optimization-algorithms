{
 "cells": [
  {
   "cell_type": "code",
   "execution_count": 1,
   "id": "8121eb1f",
   "metadata": {},
   "outputs": [],
   "source": [
    "import numpy as np\n",
    "import matplotlib.pyplot as plt"
   ]
  },
  {
   "cell_type": "code",
   "execution_count": 2,
   "id": "11503ddc",
   "metadata": {},
   "outputs": [],
   "source": [
    "def plot(x, y, x_label=None, y_label=None, title=None, name_save_file=None, points=None):\n",
    "    if title:\n",
    "        plt.title(title)\n",
    "    if x_label:\n",
    "        plt.xlabel(x_label)\n",
    "    if y_label:\n",
    "        plt.ylabel(y_label)\n",
    "    if points:\n",
    "        for point in points:\n",
    "            plt.scatter(*point, c=\"green\")\n",
    "    plt.plot(x, y)\n",
    "    plt.grid()\n",
    "    if name_save_file:\n",
    "        plt.savefig(name_save_file)\n",
    "    plt.show()\n",
    "\n",
    "def calc_mutual_inductance(coil_1, coil_2, d, po=0, fi=0):\n",
    "    mu0 = 4 * np.pi * 10 ** (-7)\n",
    "    mutual_inductance = np.ones((len(coil_1), len(coil_2)))\n",
    "    N = 90\n",
    "    K = 90\n",
    "    df1 = 2 * np.pi / N\n",
    "    df2 = 2 * np.pi / K\n",
    "    for ri in range(len(coil_1)):\n",
    "        for rj in range(len(coil_2)):\n",
    "            M = 0\n",
    "            for n in range(N):\n",
    "                for k in range(K):\n",
    "                    xk_xn = po + coil_1[ri] * np.cos(df2 * k) * np.cos(fi) - coil_2[rj] * np.cos(df1 * n)\n",
    "                    yk_yn = coil_1[ri] * np.sin(df2 * k) * np.cos(fi) - coil_2[rj] * np.sin(df1 * n)\n",
    "                    zk_zn = d + coil_1[ri] * np.cos(df2 * k) * np.sin(fi)\n",
    "                    r12 = (xk_xn ** 2 + yk_yn ** 2 + zk_zn ** 2) ** 0.5\n",
    "                    M += (np.cos(df2 * k - df1 * n) * df1 * df2) / r12\n",
    "            M *= mu0 * coil_1[ri] * coil_2[rj] / (4 * np.pi)\n",
    "            mutual_inductance[ri][rj] = M\n",
    "    return np.sum(mutual_inductance)\n",
    "\n",
    "def calc_self_inductance(coil, thin=0.001):\n",
    "    mu0 = 4 * np.pi * 10 ** (-7)\n",
    "    L = np.sum(mu0 * coil * (np.log(8 * coil / thin) - 7 / 4 + (thin ** 2) / (8 * coil ** 2) * (np.log(8 * coil / thin) + 1 / 3)))\n",
    "    mutual_inductance = np.ones((len(coil), len(coil)))\n",
    "    N = 90\n",
    "    K = 90\n",
    "    df1 = 2 * np.pi / N\n",
    "    df2 = 2 * np.pi / K\n",
    "    d = 0\n",
    "    po = 0\n",
    "    fi = 0\n",
    "    for ri in range(len(coil)):\n",
    "        for rj in range(len(coil)):\n",
    "            M = 0\n",
    "            if ri != rj:\n",
    "                for n in range(N):\n",
    "                    for k in range(K):\n",
    "                        xk_xn = po + coil[ri] * np.cos(df2 * k) * np.cos(fi) - coil[rj] * np.cos(df1 * n)\n",
    "                        yk_yn = coil[ri] * np.sin(df2 * k) * np.cos(fi) - coil[rj] * np.sin(df1 * n)\n",
    "                        zk_zn = d + coil[ri] * np.cos(df2 * k) * np.sin(fi)\n",
    "                        r12 = (xk_xn ** 2 + yk_yn ** 2 + zk_zn ** 2) ** 0.5\n",
    "                        M += (np.cos(df2 * k - df1 * n) * df1 * df2) / r12\n",
    "                M *= mu0 * coil[ri] * coil[rj] / (4 * np.pi)\n",
    "            mutual_inductance[ri][rj] = M\n",
    "    M = np.sum(mutual_inductance)\n",
    "    L += M\n",
    "    return L\n",
    "\n",
    "def calc_coupling_coefficient(coil_1, coil_2, d, po=0, fi=0):\n",
    "    M = calc_mutual_inductance(coil_1, coil_2, d, po=po, fi=fi)\n",
    "    L1 = calc_self_inductance(coil_1)\n",
    "    L2 = calc_self_inductance(coil_2)\n",
    "    k = M / (L1 * L2) ** 0.5\n",
    "    return k"
   ]
  },
  {
   "cell_type": "markdown",
   "id": "f3605fb5",
   "metadata": {},
   "source": [
    "## Random Mutation hill climbing в применении к поиску двух витков внутри катушки ##"
   ]
  },
  {
   "cell_type": "code",
   "execution_count": 3,
   "id": "839ae3ae",
   "metadata": {},
   "outputs": [],
   "source": [
    "# размеры витков для первой катушки индуктивности в метрах\n",
    "coil_1 = np.linspace(0.028, 0.07, 4)\n",
    "\n",
    "# радиус проволоки\n",
    "thin = 0.001\n",
    "\n",
    "start = 0.03 + 2 * thin\n",
    "finish = 0.09 - 2 * thin\n",
    "# размеры витков для второй катушки индуктивности в метрах\n",
    "coil_2 = np.array([0.03, start, finish, 0.09])\n",
    "\n",
    "# расстояние между катушками в метрах\n",
    "d = 0.005"
   ]
  },
  {
   "cell_type": "code",
   "execution_count": 4,
   "id": "843502a4",
   "metadata": {},
   "outputs": [],
   "source": [
    "def mutation(start, finish, x, r):\n",
    "    x = np.random.uniform(low = start if x - r < start else x - r,\n",
    "                          high = finish if x + r > finish else x + r)\n",
    "    return x\n",
    "\n",
    "\n",
    "# между витками одной катушки не должно быть пересечений\n",
    "def test_coils(coil, thin):\n",
    "    # между витками 2 и 3 катушки есть пересечение\n",
    "    if coil[1] > coil[2]:\n",
    "        if (coil[1] - coil[2] - 2 * thin) < 0:\n",
    "            return False\n",
    "    elif coil[2] > coil[1]:\n",
    "        if (coil[2] - coil[1] - 2 * thin) < 0:\n",
    "            return False\n",
    "    return True\n",
    "\n",
    "good_mutation = []\n",
    "bad_mutation = []\n",
    "all_mutation = []\n",
    "\n",
    "Q = 2\n",
    "band = 0.005\n",
    "thr_k = 1e-4"
   ]
  },
  {
   "cell_type": "code",
   "execution_count": 5,
   "id": "3afa2d62",
   "metadata": {
    "scrolled": false
   },
   "outputs": [
    {
     "name": "stdout",
     "output_type": "stream",
     "text": [
      "Начальное значение катушки: [0.03  0.032 0.088 0.09 ]\n",
      "iter: 1 k = 0.45832252749914454, катушка = [0.03       0.032      0.08640266 0.09      ]\n",
      "iter: 2 k = 0.47572390629176026, катушка = [0.03       0.032      0.08449852 0.09      ]\n",
      "iter: 3 k = 0.44174912219915397, катушка = [0.03       0.032      0.08772491 0.09      ]\n",
      "iter: 4 k = 0.4446033263293066, катушка = [0.03      0.032     0.0875381 0.09     ]\n",
      "iter: 5 k = 0.5059644052650075, катушка = [0.03       0.032      0.08069885 0.09      ]\n",
      "iter: 6 k = 0.5059974375359036, катушка = [0.03       0.03200503 0.08069885 0.09      ]\n"
     ]
    }
   ],
   "source": [
    "# coil_2[1] = mutation(start, finish, coil_2[1], band)\n",
    "# coil_2[2] = mutation(start, finish, coil_2[2], band)\n",
    "print(\"Начальное значение катушки:\", coil_2)\n",
    "\n",
    "\n",
    "# for i in range(100):\n",
    "i = 0\n",
    "while True:\n",
    "    i += 1\n",
    "    fit_k = calc_coupling_coefficient(coil_1, coil_2, d)\n",
    "    \n",
    "    # случайно выбираем индекс, который будем мутировать\n",
    "    q = np.random.randint(0, Q)\n",
    "    \n",
    "    coil_2q = coil_2.copy()\n",
    "    coil_2q[1 + q] = mutation(start, finish, coil_2q[1 + q], band)\n",
    "    \n",
    "    # проверка на пересечение витков внутри катушки\n",
    "    while not test_coils(coil_2q, thin):\n",
    "        print(f\"Есть пересечения внутри катушки! {coil_2q}\")\n",
    "        coil_2q[1 + q] = mutation(start, finish, coil_2q[1 + q], band)\n",
    "    \n",
    "    fit_kq = calc_coupling_coefficient(coil_1, coil_2q, d)\n",
    "    \n",
    "    if fit_kq > fit_k:\n",
    "        coil_2 = coil_2q.copy()\n",
    "        fit_k = fit_kq\n",
    "        good_mutation.append((fit_kq, coil_2q))\n",
    "    else:\n",
    "        bad_mutation.append((fit_kq, coil_2q))\n",
    "    all_mutation.append((fit_kq, coil_2q))\n",
    "    print(f\"iter: {i} k = {fit_kq}, катушка = {coil_2q}\")\n",
    "    if len(good_mutation) >= 2:\n",
    "        if (good_mutation[-1][0] - good_mutation[-2][0]) / thr_k < 1:\n",
    "            break"
   ]
  },
  {
   "cell_type": "code",
   "execution_count": 6,
   "id": "414e8a86",
   "metadata": {},
   "outputs": [
    {
     "name": "stdout",
     "output_type": "stream",
     "text": [
      "kmax = 0.5059974375359036; R2max = [0.03       0.03200503 0.08069885 0.09      ] м\n",
      "Количество полезных мутаций: 4\n",
      "Количество вредных мутаций: 2\n",
      "Всего мутаций: 6\n"
     ]
    }
   ],
   "source": [
    "print(f\"kmax = {fit_k}; R2max = {coil_2} м\")\n",
    "print(f\"Количество полезных мутаций: {len(good_mutation)}\")\n",
    "print(f\"Количество вредных мутаций: {len(bad_mutation)}\")\n",
    "print(f\"Всего мутаций: {len(all_mutation)}\")"
   ]
  }
 ],
 "metadata": {
  "kernelspec": {
   "display_name": "Python 3 (ipykernel)",
   "language": "python",
   "name": "python3"
  },
  "language_info": {
   "codemirror_mode": {
    "name": "ipython",
    "version": 3
   },
   "file_extension": ".py",
   "mimetype": "text/x-python",
   "name": "python",
   "nbconvert_exporter": "python",
   "pygments_lexer": "ipython3",
   "version": "3.9.13"
  }
 },
 "nbformat": 4,
 "nbformat_minor": 5
}
