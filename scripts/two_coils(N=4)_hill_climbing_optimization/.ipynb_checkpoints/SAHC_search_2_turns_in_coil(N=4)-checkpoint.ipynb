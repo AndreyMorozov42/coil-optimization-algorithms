{
 "cells": [
  {
   "cell_type": "code",
   "execution_count": 1,
   "id": "755244cb",
   "metadata": {},
   "outputs": [],
   "source": [
    "import numpy as np\n",
    "import matplotlib.pyplot as plt"
   ]
  },
  {
   "cell_type": "code",
   "execution_count": 2,
   "id": "5b599b13",
   "metadata": {},
   "outputs": [],
   "source": [
    "def plot(x, y, x_label=None, y_label=None, title=None, name_save_file=None, points=None):\n",
    "    if title:\n",
    "        plt.title(title)\n",
    "    if x_label:\n",
    "        plt.xlabel(x_label)\n",
    "    if y_label:\n",
    "        plt.ylabel(y_label)\n",
    "    if points:\n",
    "        for point in points:\n",
    "            plt.scatter(*point, c=\"green\")\n",
    "    plt.plot(x, y)\n",
    "    plt.grid()\n",
    "    if name_save_file:\n",
    "        plt.savefig(name_save_file)\n",
    "    plt.show()\n",
    "\n",
    "def calc_mutual_inductance(coil_1, coil_2, d, po=0, fi=0):\n",
    "    mu0 = 4 * np.pi * 10 ** (-7)\n",
    "    mutual_inductance = np.ones((len(coil_1), len(coil_2)))\n",
    "    N = 90\n",
    "    K = 90\n",
    "    df1 = 2 * np.pi / N\n",
    "    df2 = 2 * np.pi / K\n",
    "    for ri in range(len(coil_1)):\n",
    "        for rj in range(len(coil_2)):\n",
    "            M = 0\n",
    "            for n in range(N):\n",
    "                for k in range(K):\n",
    "                    xk_xn = po + coil_1[ri] * np.cos(df2 * k) * np.cos(fi) - coil_2[rj] * np.cos(df1 * n)\n",
    "                    yk_yn = coil_1[ri] * np.sin(df2 * k) * np.cos(fi) - coil_2[rj] * np.sin(df1 * n)\n",
    "                    zk_zn = d + coil_1[ri] * np.cos(df2 * k) * np.sin(fi)\n",
    "                    r12 = (xk_xn ** 2 + yk_yn ** 2 + zk_zn ** 2) ** 0.5\n",
    "                    M += (np.cos(df2 * k - df1 * n) * df1 * df2) / r12\n",
    "            M *= mu0 * coil_1[ri] * coil_2[rj] / (4 * np.pi)\n",
    "            mutual_inductance[ri][rj] = M\n",
    "    return np.sum(mutual_inductance)\n",
    "\n",
    "def calc_self_inductance(coil, thin=0.001):\n",
    "    mu0 = 4 * np.pi * 10 ** (-7)\n",
    "    L = np.sum(mu0 * coil * (np.log(8 * coil / thin) - 7 / 4 + (thin ** 2) / (8 * coil ** 2) * (np.log(8 * coil / thin) + 1 / 3)))\n",
    "    mutual_inductance = np.ones((len(coil), len(coil)))\n",
    "    N = 90\n",
    "    K = 90\n",
    "    df1 = 2 * np.pi / N\n",
    "    df2 = 2 * np.pi / K\n",
    "    d = 0\n",
    "    po = 0\n",
    "    fi = 0\n",
    "    for ri in range(len(coil)):\n",
    "        for rj in range(len(coil)):\n",
    "            M = 0\n",
    "            if ri != rj:\n",
    "                for n in range(N):\n",
    "                    for k in range(K):\n",
    "                        xk_xn = po + coil[ri] * np.cos(df2 * k) * np.cos(fi) - coil[rj] * np.cos(df1 * n)\n",
    "                        yk_yn = coil[ri] * np.sin(df2 * k) * np.cos(fi) - coil[rj] * np.sin(df1 * n)\n",
    "                        zk_zn = d + coil[ri] * np.cos(df2 * k) * np.sin(fi)\n",
    "                        r12 = (xk_xn ** 2 + yk_yn ** 2 + zk_zn ** 2) ** 0.5\n",
    "                        M += (np.cos(df2 * k - df1 * n) * df1 * df2) / r12\n",
    "                M *= mu0 * coil[ri] * coil[rj] / (4 * np.pi)\n",
    "            mutual_inductance[ri][rj] = M\n",
    "    M = np.sum(mutual_inductance)\n",
    "    L += M\n",
    "    return L\n",
    "\n",
    "def calc_coupling_coefficient(coil_1, coil_2, d, po=0, fi=0):\n",
    "    M = calc_mutual_inductance(coil_1, coil_2, d, po=po, fi=fi)\n",
    "    L1 = calc_self_inductance(coil_1)\n",
    "    L2 = calc_self_inductance(coil_2)\n",
    "    k = M / (L1 * L2) ** 0.5\n",
    "    return k"
   ]
  },
  {
   "cell_type": "markdown",
   "id": "585d4442",
   "metadata": {},
   "source": [
    "## Steepest ascent hill climbing в применении к поиску двух витков внутри катушки ##"
   ]
  },
  {
   "cell_type": "code",
   "execution_count": 3,
   "id": "75545177",
   "metadata": {},
   "outputs": [],
   "source": [
    "# размеры витков для первой катушки индуктивности в метрах\n",
    "coil_1 = np.linspace(0.028, 0.07, 4)\n",
    "\n",
    "# радиус проволоки\n",
    "thin = 0.001\n",
    "\n",
    "start = 0.03 + 2 * thin\n",
    "finish = 0.09 - 2 * thin\n",
    "# размеры витков для второй катушки индуктивности в метрах\n",
    "coil_2 = np.array([0.03, start, finish, 0.09])\n",
    "\n",
    "# расстояние между катушками в метрах\n",
    "d = 0.005"
   ]
  },
  {
   "cell_type": "code",
   "execution_count": 4,
   "id": "637e9e38",
   "metadata": {},
   "outputs": [],
   "source": [
    "def mutation(start, finish, x, r):\n",
    "    x = np.random.uniform(low = start if x - r < start else x - r,\n",
    "                          high = finish if x + r > finish else x + r)\n",
    "    return x\n",
    "\n",
    "\n",
    "# между витками одной катушки не должно быть пересечений\n",
    "def test_coils(coil, thin):\n",
    "    # между витками 2 и 3 катушки есть пересечение\n",
    "    if coil[1] > coil[2]:\n",
    "        if (coil[1] - coil[2] - 2 * thin) < 0:\n",
    "            return False\n",
    "    elif coil[2] > coil[1]:\n",
    "        if (coil[2] - coil[1] - 2 * thin) < 0:\n",
    "            return False\n",
    "    return True\n",
    "\n",
    "good_mutation = []\n",
    "bad_mutation = []\n",
    "all_mutation = []\n",
    "\n",
    "Q = 2\n",
    "band = 0.005\n",
    "thr_k = 1e-4"
   ]
  },
  {
   "cell_type": "code",
   "execution_count": 5,
   "id": "9711d379",
   "metadata": {
    "scrolled": false
   },
   "outputs": [
    {
     "name": "stdout",
     "output_type": "stream",
     "text": [
      "Начальное значение катушки: [0.03  0.032 0.088 0.09 ]\n",
      "iter: 1 k = 0.4823441355447416, катушка = [0.03       0.032      0.08369303 0.09      ]\n",
      "iter: 2 k = 0.5054665307697181, катушка = [0.03       0.03664958 0.08369303 0.09      ]\n",
      "iter: 3 k = 0.5171741178673136, катушка = [0.03       0.03664958 0.08225975 0.09      ]\n",
      "iter: 4 k = 0.5358450020014578, катушка = [0.03       0.03664958 0.07993636 0.09      ]\n",
      "iter: 5 k = 0.5765165612868498, катушка = [0.03       0.03664958 0.07508595 0.09      ]\n",
      "iter: 6 k = 0.5928433859468352, катушка = [0.03       0.0400112  0.07508595 0.09      ]\n",
      "iter: 7 k = 0.6113193690311867, катушка = [0.03       0.0400112  0.07288741 0.09      ]\n",
      "iter: 8 k = 0.6335299408520765, катушка = [0.03       0.0400112  0.06842731 0.09      ]\n",
      "iter: 9 k = 0.6335299408520765, катушка = [0.03       0.0400112  0.06842731 0.09      ]\n",
      "iter: 10 k = 0.634607462098728, катушка = [0.03      0.0400112 0.0663626 0.09     ]\n",
      "iter: 11 k = 0.6449588874981971, катушка = [0.03       0.04417211 0.0663626  0.09      ]\n",
      "iter: 12 k = 0.64556337415492, катушка = [0.03       0.04417211 0.06172417 0.09      ]\n",
      "iter: 13 k = 0.64556337415492, катушка = [0.03       0.04417211 0.06172417 0.09      ]\n",
      "iter: 14 k = 0.6458113000614578, катушка = [0.03       0.04671878 0.06172417 0.09      ]\n",
      "iter: 15 k = 0.647844500711194, катушка = [0.03       0.05151526 0.06172417 0.09      ]\n",
      "iter: 16 k = 0.6478920968770215, катушка = [0.03       0.05499193 0.06172417 0.09      ]\n"
     ]
    }
   ],
   "source": [
    "print(\"Начальное значение катушки:\", coil_2)\n",
    "\n",
    "i = 0\n",
    "\n",
    "while True:\n",
    "    i += 1\n",
    "    fit_k = calc_coupling_coefficient(coil_1, coil_2, d)\n",
    "    num_q = []\n",
    "    for q in range(Q):\n",
    "        coil_2q = coil_2.copy()\n",
    "        coil_2q[1 + q] = mutation(start, finish, coil_2q[1 + q], band)\n",
    "        \n",
    "        # проверка на пересечение витков внутри катушки\n",
    "        while not test_coils(coil_2q, thin):\n",
    "            print(f\"Есть пересечения внутри катушки! {coil_2q}\")\n",
    "            coil_2q[1 + q] = mutation(start, finish, coil_2q[1 + q], band)\n",
    "                \n",
    "        fit_kq = calc_coupling_coefficient(coil_1, coil_2q, d)\n",
    "        num_q.append((fit_kq, coil_2q))\n",
    "    num_q = sorted(num_q, key=lambda x: x[0], reverse=True)[0]\n",
    "    if num_q[0] > fit_k:\n",
    "        fit_k = num_q[0].copy()\n",
    "        coil_2 = num_q[1].copy()\n",
    "        good_mutation.append(num_q)\n",
    "    else:\n",
    "        bad_mutation.append(num_q)\n",
    "    all_mutation.append(num_q)\n",
    "    print(f\"iter: {i} k = {fit_k}, катушка = {coil_2}\")\n",
    "    if len(good_mutation) >= 2:\n",
    "        if (good_mutation[-1][0] - good_mutation[-2][0]) / thr_k < 1:\n",
    "            break"
   ]
  },
  {
   "cell_type": "code",
   "execution_count": 6,
   "id": "d0aa685b",
   "metadata": {},
   "outputs": [
    {
     "name": "stdout",
     "output_type": "stream",
     "text": [
      "kmax = 0.6478920968770215; R2max = [0.03       0.05499193 0.06172417 0.09      ] м\n",
      "Количество полезных мутаций: 14\n",
      "Количество вредных мутаций: 2\n",
      "Всего мутаций: 16\n"
     ]
    }
   ],
   "source": [
    "print(f\"kmax = {fit_k}; R2max = {coil_2} м\")\n",
    "print(f\"Количество полезных мутаций: {len(good_mutation)}\")\n",
    "print(f\"Количество вредных мутаций: {len(bad_mutation)}\")\n",
    "print(f\"Всего мутаций: {len(all_mutation)}\")"
   ]
  }
 ],
 "metadata": {
  "kernelspec": {
   "display_name": "Python 3 (ipykernel)",
   "language": "python",
   "name": "python3"
  },
  "language_info": {
   "codemirror_mode": {
    "name": "ipython",
    "version": 3
   },
   "file_extension": ".py",
   "mimetype": "text/x-python",
   "name": "python",
   "nbconvert_exporter": "python",
   "pygments_lexer": "ipython3",
   "version": "3.9.13"
  }
 },
 "nbformat": 4,
 "nbformat_minor": 5
}
