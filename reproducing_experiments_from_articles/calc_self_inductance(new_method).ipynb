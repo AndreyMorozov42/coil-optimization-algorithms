{
 "cells": [
  {
   "cell_type": "code",
   "execution_count": 54,
   "id": "1f1c71cc",
   "metadata": {},
   "outputs": [],
   "source": [
    "import numpy as np\n",
    "import matplotlib.pyplot as plt"
   ]
  },
  {
   "cell_type": "code",
   "execution_count": 94,
   "id": "1807b1a0",
   "metadata": {},
   "outputs": [],
   "source": [
    "def calc_mutual_inductance(coil, d=0, po=0, fi=0):\n",
    "    \"\"\"Расчёт взаимной индуктивности между двумя витками.\n",
    "    :param coil_1: np.ndarray с радиусом одной катушки индуктивности, м\n",
    "    :type coil_1: np.ndarray\n",
    "    \n",
    "    :param coil_2: список с радиусом одной катушки индуктивности, м\n",
    "    :type coil_1: np.ndarray\n",
    "    \n",
    "    :param d: расстояние между витками, м\n",
    "    :type d: np.ndarray or float, int\n",
    "    \n",
    "    :param po: латеральное смещение между витками, м\n",
    "    :type po: np.ndarray or float, int\n",
    "    \n",
    "    :param fi: угловое смещение между витками\n",
    "    :type fi: np.ndarray or float, int\n",
    "    \n",
    "    :rtype: np.ndarray\n",
    "    :return: M, собственная индуктивность между витками\n",
    "    \"\"\"\n",
    "    mu0 = 4 * np.pi * 10 ** (-7)\n",
    "    M = np.array([])\n",
    "    m = 0\n",
    "    N = 60\n",
    "    K = 60\n",
    "    df1 = 2 * np.pi / N\n",
    "    df2 = 2 * np.pi / K\n",
    "    for ind_ri in range(len(coil)):\n",
    "        for ind_rj in range(ind_ri + 1, len(coil)):\n",
    "            m = 0\n",
    "            for n in range(N):\n",
    "                for k in range(K):\n",
    "                    xk_xn = po + coil[ind_ri] * np.cos(df2 * k) * np.cos(fi) - coil[ind_rj] * np.cos(df1 * n)\n",
    "                    yk_yn = coil[ind_ri] * np.sin(df2 * k) * np.cos(fi) - coil[ind_rj] * np.sin(df1 * n)\n",
    "                    zk_zn = d + coil[ind_rj] * np.cos(df2 * k) * np.sin(fi)\n",
    "                    r12 = (xk_xn ** 2 + yk_yn ** 2 + zk_zn ** 2) ** 0.5\n",
    "                    m += (np.cos(df2 * k - df1 * n) * df1 * df2) / r12\n",
    "            m *= mu0 * coil[ind_ri] * coil[ind_rj] / (4 * np.pi)\n",
    "            M = np.append(M, m)\n",
    "    return M\n",
    "\n",
    "\n",
    "def calc_self_inductance(coil, thin=0.0004):\n",
    "    mu0 = 4 * np.pi * 10 ** (-7)\n",
    "    L = 0\n",
    "    for i in range(len(coil)):\n",
    "        L += mu0 * coil[i] * (np.log(8 * coil[i] / thin) - 7 / 4 + (thin ** 2) / (8 * coil[i] ** 2) * (np.log(8 * coil[i] / thin) + 1 / 3))\n",
    "    L += 2 * np.sum(calc_mutual_inductance(coil))\n",
    "    return L"
   ]
  },
  {
   "cell_type": "markdown",
   "id": "f1861f87",
   "metadata": {},
   "source": [
    "Reproduction the result from article: Self-inductance of Multi-turn Round Inductive Coils with Production-specific Geometric Features"
   ]
  },
  {
   "cell_type": "code",
   "execution_count": 95,
   "id": "ae965ce0",
   "metadata": {},
   "outputs": [
    {
     "name": "stdout",
     "output_type": "stream",
     "text": [
      "case1: 3.089794194386572 мкГн\n",
      "case2: 4.397392173817378 мкГн\n",
      "case3: 1.5415228555041434 мкГн\n",
      "case4: 0.7925535409403592 мкГн\n",
      "case5: 9.897668603813843 мкГн\n",
      "case6: 2.7808388538242848 мкГн\n",
      "case7: 1.1303573692401938 мкГн\n"
     ]
    }
   ],
   "source": [
    "case1 = np.linspace(0.0225, 0.0475, 6, endpoint=True)\n",
    "case2 = np.linspace(0.024, 0.048, 7, endpoint=True)\n",
    "case3 = np.linspace(0.024, 0.048, 4, endpoint=True)\n",
    "case4 = np.linspace(0.02, 0.044, 3, endpoint=True)\n",
    "case5 = np.linspace(0.02, 0.06, 11, endpoint=True)\n",
    "case6 = np.linspace(0.0035, 0.02, 12, endpoint=True)\n",
    "case7 = np.linspace(0.005, 0.02, 7, endpoint=True)\n",
    "print(\"case1:\", calc_self_inductance(case1)*10**6, \"мкГн\")\n",
    "print(\"case2:\", calc_self_inductance(case2)*10**6, \"мкГн\")\n",
    "print(\"case3:\", calc_self_inductance(case3)*10**6, \"мкГн\")\n",
    "print(\"case4:\", calc_self_inductance(case4)*10**6, \"мкГн\")\n",
    "print(\"case5:\", calc_self_inductance(case5)*10**6, \"мкГн\")\n",
    "print(\"case6:\", calc_self_inductance(case6, thin=0.00025)*10**6, \"мкГн\")\n",
    "print(\"case7:\", calc_self_inductance(case7, thin=0.00025)*10**6, \"мкГн\")"
   ]
  }
 ],
 "metadata": {
  "kernelspec": {
   "display_name": "Python 3 (ipykernel)",
   "language": "python",
   "name": "python3"
  },
  "language_info": {
   "codemirror_mode": {
    "name": "ipython",
    "version": 3
   },
   "file_extension": ".py",
   "mimetype": "text/x-python",
   "name": "python",
   "nbconvert_exporter": "python",
   "pygments_lexer": "ipython3",
   "version": "3.9.13"
  }
 },
 "nbformat": 4,
 "nbformat_minor": 5
}
