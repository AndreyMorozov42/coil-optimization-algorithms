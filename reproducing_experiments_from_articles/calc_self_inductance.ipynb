{
 "cells": [
  {
   "cell_type": "code",
   "execution_count": 1,
   "id": "1f1c71cc",
   "metadata": {},
   "outputs": [],
   "source": [
    "import numpy as np\n",
    "import matplotlib.pyplot as plt"
   ]
  },
  {
   "cell_type": "code",
   "execution_count": 7,
   "id": "1807b1a0",
   "metadata": {},
   "outputs": [],
   "source": [
    "def calc_mutual_inductance(coil_1, coil_2, d=0, po=0, fi=0):\n",
    "    \"\"\"Расчёт взаимной индуктивности между двумя витками.\n",
    "    :param coil_1: np.ndarray с радиусом одной катушки индуктивности, м\n",
    "    :type coil_1: np.ndarray\n",
    "    \n",
    "    :param coil_2: список с радиусом одной катушки индуктивности, м\n",
    "    :type coil_1: np.ndarray\n",
    "    \n",
    "    :param d: расстояние между витками, м\n",
    "    :type d: np.ndarray or float, int\n",
    "    \n",
    "    :param po: латеральное смещение между витками, м\n",
    "    :type po: np.ndarray or float, int\n",
    "    \n",
    "    :param fi: угловое смещение между витками\n",
    "    :type fi: np.ndarray or float, int\n",
    "    \n",
    "    :rtype: np.ndarray\n",
    "    :return: M, собственная индуктивность между витками\n",
    "    \"\"\"\n",
    "    coil_1 = coil_1.T\n",
    "    mu0 = 1.26 * 1e-6\n",
    "    M = 0\n",
    "    N = 360\n",
    "    K = 360\n",
    "    df1 = 2 * np.pi / N\n",
    "    df2 = 2 * np.pi / K\n",
    "    for n in range(N):\n",
    "        for k in range(K):\n",
    "            xk_xn = po + coil_1 * np.cos(df2 * k) * np.cos(fi) - coil_2 * np.cos(df1 * n)\n",
    "            yk_yn = coil_1 * np.sin(df2 * k) * np.cos(fi) - coil_2 * np.sin(df1 * n)\n",
    "            zk_zn = d + coil_1 * np.cos(df2 * k) * np.sin(fi)\n",
    "            r12 = (xk_xn ** 2 + yk_yn ** 2 + zk_zn ** 2) ** 0.5\n",
    "            M += (np.cos(df2 * k - df1 * n) * df1 * df2) / r12\n",
    "    M *= mu0 * coil_1 * coil_2 / (4 * np.pi)\n",
    "    M = M[np.isfinite(M)]\n",
    "    return M\n",
    "\n",
    "def calc_self_inductance(coil, thin=0.0004):\n",
    "    mu0 = 1.26 * 1e-6\n",
    "    L = np.sum(mu0 * coil * (np.log(8 * coil / thin) - 2))\n",
    "    L += np.sum(calc_mutual_inductance(coil, coil))\n",
    "    return L"
   ]
  },
  {
   "cell_type": "markdown",
   "id": "f1861f87",
   "metadata": {},
   "source": [
    "Reproduction the result from article: Self-inductance of Multi-turn Round Inductive Coils with Production-specific Geometric Features"
   ]
  },
  {
   "cell_type": "code",
   "execution_count": 8,
   "id": "ae965ce0",
   "metadata": {},
   "outputs": [
    {
     "name": "stderr",
     "output_type": "stream",
     "text": [
      "/tmp/ipykernel_11560/984826311.py:34: RuntimeWarning: divide by zero encountered in true_divide\n",
      "  M += (np.cos(df2 * k - df1 * n) * df1 * df2) / r12\n"
     ]
    },
    {
     "name": "stdout",
     "output_type": "stream",
     "text": [
      "case1: 3.031677273873793 мкГн\n",
      "case2: 4.328442283273869 мкГн\n",
      "case3: 1.5002662151289035 мкГн\n",
      "case4: 0.7644171319554103 мкГн\n",
      "case5: 9.778300272309695 мкГн\n",
      "case6: 2.7426608935695787 мкГн\n",
      "case7: 1.1057617515854272 мкГн\n"
     ]
    }
   ],
   "source": [
    "case1 = np.linspace(0.0225, 0.0475, 6, endpoint=True).reshape(1,6)\n",
    "case2 = np.linspace(0.024, 0.048, 7, endpoint=True).reshape(1,7)\n",
    "case3 = np.linspace(0.024, 0.048, 4, endpoint=True).reshape(1,4)\n",
    "case4 = np.linspace(0.02, 0.044, 3, endpoint=True).reshape(1,3)\n",
    "case5 = np.linspace(0.02, 0.06, 11, endpoint=True).reshape(1,11)\n",
    "case6 = np.linspace(0.0035, 0.02, 12, endpoint=True).reshape(1,12)\n",
    "case7 = np.linspace(0.005, 0.02, 7, endpoint=True).reshape(1,7)\n",
    "print(\"case1:\", calc_self_inductance(case1)*10**6, \"мкГн\")\n",
    "print(\"case2:\", calc_self_inductance(case2)*10**6, \"мкГн\")\n",
    "print(\"case3:\", calc_self_inductance(case3)*10**6, \"мкГн\")\n",
    "print(\"case4:\", calc_self_inductance(case4)*10**6, \"мкГн\")\n",
    "print(\"case5:\", calc_self_inductance(case5)*10**6, \"мкГн\")\n",
    "print(\"case6:\", calc_self_inductance(case6, thin=0.00025)*10**6, \"мкГн\")\n",
    "print(\"case7:\", calc_self_inductance(case7, thin=0.00025)*10**6, \"мкГн\")"
   ]
  }
 ],
 "metadata": {
  "kernelspec": {
   "display_name": "Python 3 (ipykernel)",
   "language": "python",
   "name": "python3"
  },
  "language_info": {
   "codemirror_mode": {
    "name": "ipython",
    "version": 3
   },
   "file_extension": ".py",
   "mimetype": "text/x-python",
   "name": "python",
   "nbconvert_exporter": "python",
   "pygments_lexer": "ipython3",
   "version": "3.9.13"
  }
 },
 "nbformat": 4,
 "nbformat_minor": 5
}
