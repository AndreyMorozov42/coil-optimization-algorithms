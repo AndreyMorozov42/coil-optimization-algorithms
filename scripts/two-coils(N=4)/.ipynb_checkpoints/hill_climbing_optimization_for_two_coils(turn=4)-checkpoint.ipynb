{
 "cells": [
  {
   "cell_type": "code",
   "execution_count": 1,
   "id": "bd448931",
   "metadata": {},
   "outputs": [],
   "source": [
    "import numpy as np\n",
    "import matplotlib.pyplot as plt"
   ]
  },
  {
   "cell_type": "code",
   "execution_count": 2,
   "id": "e9eca5ab",
   "metadata": {},
   "outputs": [],
   "source": [
    "def plot(x, y, x_label=None, y_label=None, title=None, name_save_file=None, points=None):\n",
    "    if title:\n",
    "        plt.title(title)\n",
    "    if x_label:\n",
    "        plt.xlabel(x_label)\n",
    "    if y_label:\n",
    "        plt.ylabel(y_label)\n",
    "    if points:\n",
    "        for point in points:\n",
    "            plt.scatter(*point, c=\"green\")\n",
    "    plt.plot(x, y)\n",
    "    plt.grid()\n",
    "    if name_save_file:\n",
    "        plt.savefig(name_save_file)\n",
    "    plt.show()\n",
    "\n",
    "def calc_mutual_inductance(coil_1, coil_2, d, po=0, fi=0):\n",
    "    mu0 = 4 * np.pi * 10 ** (-7)\n",
    "    mutual_inductance = np.ones((len(coil_1), len(coil_2)))\n",
    "    N = 90\n",
    "    K = 90\n",
    "    df1 = 2 * np.pi / N\n",
    "    df2 = 2 * np.pi / K\n",
    "    for ri in range(len(coil_1)):\n",
    "        for rj in range(len(coil_2)):\n",
    "            M = 0\n",
    "            for n in range(N):\n",
    "                for k in range(K):\n",
    "                    xk_xn = po + coil_1[ri] * np.cos(df2 * k) * np.cos(fi) - coil_2[rj] * np.cos(df1 * n)\n",
    "                    yk_yn = coil_1[ri] * np.sin(df2 * k) * np.cos(fi) - coil_2[rj] * np.sin(df1 * n)\n",
    "                    zk_zn = d + coil_1[ri] * np.cos(df2 * k) * np.sin(fi)\n",
    "                    r12 = (xk_xn ** 2 + yk_yn ** 2 + zk_zn ** 2) ** 0.5\n",
    "                    M += (np.cos(df2 * k - df1 * n) * df1 * df2) / r12\n",
    "            M *= mu0 * coil_1[ri] * coil_2[rj] / (4 * np.pi)\n",
    "            mutual_inductance[ri][rj] = M\n",
    "    return np.sum(mutual_inductance)\n",
    "\n",
    "def calc_self_inductance(coil, thin=0.001):\n",
    "    mu0 = 4 * np.pi * 10 ** (-7)\n",
    "    L = np.sum(mu0 * coil * (np.log(8 * coil / thin) - 7 / 4 + (thin ** 2) / (8 * coil ** 2) * (np.log(8 * coil / thin) + 1 / 3)))\n",
    "    mutual_inductance = np.ones((len(coil), len(coil)))\n",
    "    N = 90\n",
    "    K = 90\n",
    "    df1 = 2 * np.pi / N\n",
    "    df2 = 2 * np.pi / K\n",
    "    d = 0\n",
    "    po = 0\n",
    "    fi = 0\n",
    "    for ri in range(len(coil)):\n",
    "        for rj in range(len(coil)):\n",
    "            M = 0\n",
    "            if ri != rj:\n",
    "                for n in range(N):\n",
    "                    for k in range(K):\n",
    "                        xk_xn = po + coil[ri] * np.cos(df2 * k) * np.cos(fi) - coil[rj] * np.cos(df1 * n)\n",
    "                        yk_yn = coil[ri] * np.sin(df2 * k) * np.cos(fi) - coil[rj] * np.sin(df1 * n)\n",
    "                        zk_zn = d + coil[ri] * np.cos(df2 * k) * np.sin(fi)\n",
    "                        r12 = (xk_xn ** 2 + yk_yn ** 2 + zk_zn ** 2) ** 0.5\n",
    "                        M += (np.cos(df2 * k - df1 * n) * df1 * df2) / r12\n",
    "                M *= mu0 * coil[ri] * coil[rj] / (4 * np.pi)\n",
    "            mutual_inductance[ri][rj] = M\n",
    "    M = np.sum(mutual_inductance)\n",
    "    L += M\n",
    "    return L\n",
    "\n",
    "def calc_coupling_coefficient(coil_1, coil_2, d, po=0, fi=0):\n",
    "    M = calc_mutual_inductance(coil_1, coil_2, d, po=po, fi=fi)\n",
    "    L1 = calc_self_inductance(coil_1)\n",
    "    L2 = calc_self_inductance(coil_2)\n",
    "    k = M / (L1 * L2) ** 0.5\n",
    "    return k"
   ]
  },
  {
   "cell_type": "code",
   "execution_count": 3,
   "id": "45be1176",
   "metadata": {},
   "outputs": [],
   "source": [
    "# размеры витков для первой катушки индуктивности в метрах\n",
    "coil_1 = np.linspace(0.028, 0.07, 4)\n",
    "\n",
    "# размеры витков для второй катушки индуктивности в метрах\n",
    "coils_2 = np.linspace(0.03, 0.09, 4) + np.zeros((100, 4))\n",
    "coils_2.T[2] = np.linspace(coils_2[0][1] + 1e-6, coils_2[0][3] - 1e-6, 100)\n",
    "\n",
    "# расстояние между катушками в метрах\n",
    "d = 0.005"
   ]
  },
  {
   "cell_type": "code",
   "execution_count": null,
   "id": "fe04b224",
   "metadata": {},
   "outputs": [],
   "source": [
    "# расчёт взаимной индуктивности между катушками\n",
    "M = np.array([])\n",
    "for coil in coils_2:\n",
    "    M = np.append(M, calc_mutual_inductance(coil, coil_1, d))"
   ]
  },
  {
   "cell_type": "code",
   "execution_count": null,
   "id": "defbf9b3",
   "metadata": {},
   "outputs": [],
   "source": [
    "plot(coils_2.T[2], M, title=\"Взаимная индуктивность между катушками\\n(число витков в одной катушке - 4)\",\n",
    "    x_label=\"R23, м\", y_label=\"M, Гн\")\n",
    "print(f\"Mmax = {np.max(M)} Гн при R23={coils_2.T[2][np.argmax(M)]} м\")"
   ]
  },
  {
   "cell_type": "code",
   "execution_count": null,
   "id": "f8033af0",
   "metadata": {},
   "outputs": [],
   "source": [
    "# расчёт коэффициента связи\n",
    "k = np.array([])\n",
    "for coil_2 in coils_2:\n",
    "    k = np.append(k, calc_coupling_coefficient(coil_1, coil_2, d))"
   ]
  },
  {
   "cell_type": "code",
   "execution_count": null,
   "id": "ea9b8f5d",
   "metadata": {},
   "outputs": [],
   "source": [
    "plot(coils_2.T[2][1:-1], k[1:-1], title=\"Коэффициент связи между катушками\\n(число витков в катушке - 4)\",\n",
    "    x_label=\"R23, м\", y_label=\"k\")\n",
    "print(f\"kmax = {np.max(k)} при R23={coils_2.T[2][np.argmax(M)]} м\")"
   ]
  },
  {
   "cell_type": "markdown",
   "id": "388ef6c2",
   "metadata": {},
   "source": [
    "## Применение \"steepest ascent hill climbing algorithm\" для оптимизации формы катушки ##"
   ]
  },
  {
   "cell_type": "code",
   "execution_count": null,
   "id": "afe9c831",
   "metadata": {},
   "outputs": [],
   "source": [
    "# steepest hill climbing algorithm для поиска максимума функции\n",
    "def mutation(start, finish, c, r=0.005):\n",
    "    c[2] = np.random.uniform(low=start if c[2] - r < start else c[2] - r,\n",
    "                             high=finish if c[2] + r > finish else c[2] + r)\n",
    "    return c    \n",
    "\n",
    "good_mutation = []\n",
    "bad_mutation = []\n",
    "all_mutation = []\n",
    "\n",
    "c2 = np.linspace(0.03, 0.09, 4)\n",
    "c2[2] = np.random.uniform(low=c2[1] + thin / 2, high=c2[3])\n",
    "thr = 1e-4\n",
    "\n",
    "while True:\n",
    "    fit_k = calc_coupling_coefficient(coil_1, c2, d)\n",
    "    c2_q = mutation(c2[1] + thin / 2, c2[3], c2)\n",
    "    fit_kq = calc_coupling_coefficient(coil_1, c2_q, d)\n",
    "    if fit_kq > fit_k:\n",
    "        good_mutation.append((c2_q[2], fit_kq))\n",
    "        c2 = c2_q\n",
    "        fit_k = fit_kq\n",
    "    else:\n",
    "        bad_mutation.append((c2[2], fit_kq))\n",
    "    all_mutation.append((c2[2], fit_kq))\n",
    "    # новый критерий остановки алгоритма\n",
    "    if len(good_mutation) >= 2:\n",
    "        if (good_mutation[-1][1] - good_mutation[-2][1]) / thr_k < 1:\n",
    "        break"
   ]
  },
  {
   "cell_type": "code",
   "execution_count": null,
   "id": "995f823f",
   "metadata": {},
   "outputs": [],
   "source": [
    "plot(coils_2.T[2][1:-1], k[1:-1], x_label=\"R23, м\", y_label=\"k\",\n",
    "     title=\"Коэффициент связи между двумя катушками\\n(количество витков в одной катушке - 4)\", points=good_mutation)\n",
    "\n",
    "print(f\"kmax = {fit_k}; R2max = {c2[2]} м\")\n",
    "print(f\"Количество полезных мутаций: {len(good_mutation)}\")\n",
    "print(f\"Количество вредных мутаций: {len(bad_mutation)}\")\n",
    "print(f\"Всего мутаций: {len(all_mutation)}\")"
   ]
  },
  {
   "cell_type": "markdown",
   "id": "f8e2d1da",
   "metadata": {},
   "source": [
    "## Применение \"steepest ascent hill climbing algorithm\" для оптимизации формы катушки ##\n",
    "Адаптивная мутация"
   ]
  },
  {
   "cell_type": "code",
   "execution_count": 35,
   "id": "c001c0e6",
   "metadata": {},
   "outputs": [
    {
     "name": "stdout",
     "output_type": "stream",
     "text": [
      "0.00025\n"
     ]
    }
   ],
   "source": [
    "# steepest hill climbing algorithm для поиска максимума функции\n",
    "def mutation(start, finish, c, r=0.005):\n",
    "    c[2] = np.random.uniform(low=start if c[2] - r < start else c[2] - r,\n",
    "                             high=finish if c[2] + r > finish else c[2] + r)\n",
    "    return c    \n",
    "\n",
    "good_mutation = []\n",
    "bad_mutation = []\n",
    "all_mutation = []\n",
    "\n",
    "thr_k = 1e-9\n",
    "band = 0.0025\n",
    "thin = 0.001\n",
    "c2 = np.linspace(0.03, 0.09, 4)\n",
    "c2[2] = np.random.uniform(low=c2[1] + thin / 2, high=c2[3])\n",
    "\n",
    "while True:\n",
    "    fit_k = calc_coupling_coefficient(coil_1, c2, d)\n",
    "    c2_q = mutation(c2[1] + thin / 2, c2[3], c2, r=band)\n",
    "    fit_kq = calc_coupling_coefficient(coil_1, c2_q, d)\n",
    "    if fit_kq > fit_k:\n",
    "        good_mutation.append((c2_q[2], fit_kq))\n",
    "        c2 = c2_q\n",
    "        fit_k = fit_kq\n",
    "    else:\n",
    "        bad_mutation.append((c2[2], fit_kq))\n",
    "    all_mutation.append((c2[2], fit_kq))\n",
    "    # новый критерий остановки алгоритма\n",
    "    if len(good_mutation) >= 2:\n",
    "        if good_mutation[-1][1] - good_mutation[-2][1] < 1e-4:\n",
    "            band /= 10\n",
    "            print(band)\n",
    "        if good_mutation[-1][1] - good_mutation[-2][1] < thr_k:\n",
    "            break"
   ]
  },
  {
   "cell_type": "code",
   "execution_count": 36,
   "id": "0461da6e",
   "metadata": {},
   "outputs": [
    {
     "data": {
      "image/png": "[encoded data removed]",
      "text/plain": [
       "<Figure size 640x480 with 1 Axes>"
      ]
     },
     "metadata": {},
     "output_type": "display_data"
    },
    {
     "name": "stdout",
     "output_type": "stream",
     "text": [
      "kmax = 0.6488014153096757; R2max = 0.06690316745743259 м\n",
      "Количество полезных мутаций: 6\n",
      "Количество вредных мутаций: 2\n",
      "Всего мутаций: 8\n"
     ]
    }
   ],
   "source": [
    "plot(coils_2.T[2][1:-1], k[1:-1], x_label=\"R23, м\", y_label=\"k\",\n",
    "     title=\"Коэффициент связи между двумя катушками\\n(количество витков в одной катушке - 4)\", points=good_mutation,\n",
    "     name_save_file=\"hill_climbing_n=4_new_breakpoint.png\")\n",
    "\n",
    "print(f\"kmax = {fit_k}; R2max = {c2[2]} м\")\n",
    "print(f\"Количество полезных мутаций: {len(good_mutation)}\")\n",
    "print(f\"Количество вредных мутаций: {len(bad_mutation)}\")\n",
    "print(f\"Всего мутаций: {len(all_mutation)}\")"
   ]
  },
  {
   "cell_type": "code",
   "execution_count": 33,
   "id": "6186c64e",
   "metadata": {},
   "outputs": [
    {
     "data": {
      "text/plain": [
       "[(0.07494031710427566, 0.6127744859321947),\n",
       " (0.07382198747048568, 0.6216940139691469),\n",
       " (0.07166352896233304, 0.6371381999996482),\n",
       " (0.0731439030269293, 0.6269118030143186)]"
      ]
     },
     "execution_count": 33,
     "metadata": {},
     "output_type": "execute_result"
    }
   ],
   "source": [
    "good_mutation"
   ]
  },
  {
   "cell_type": "code",
   "execution_count": 34,
   "id": "e4671c9d",
   "metadata": {},
   "outputs": [
    {
     "data": {
      "text/plain": [
       "[(0.07410077781158511, 0.6194959422438191)]"
      ]
     },
     "execution_count": 34,
     "metadata": {},
     "output_type": "execute_result"
    }
   ],
   "source": [
    "bad_mutation"
   ]
  },
  {
   "cell_type": "code",
   "execution_count": null,
   "id": "e7960cc9",
   "metadata": {},
   "outputs": [],
   "source": []
  }
 ],
 "metadata": {
  "kernelspec": {
   "display_name": "Python 3 (ipykernel)",
   "language": "python",
   "name": "python3"
  },
  "language_info": {
   "codemirror_mode": {
    "name": "ipython",
    "version": 3
   },
   "file_extension": ".py",
   "mimetype": "text/x-python",
   "name": "python",
   "nbconvert_exporter": "python",
   "pygments_lexer": "ipython3",
   "version": "3.9.13"
  }
 },
 "nbformat": 4,
 "nbformat_minor": 5
}
