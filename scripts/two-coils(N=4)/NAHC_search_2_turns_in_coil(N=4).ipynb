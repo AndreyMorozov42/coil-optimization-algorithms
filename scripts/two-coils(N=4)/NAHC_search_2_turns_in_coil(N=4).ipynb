{
 "cells": [
  {
   "cell_type": "code",
   "execution_count": 1,
   "id": "df1e4abd",
   "metadata": {},
   "outputs": [],
   "source": [
    "import numpy as np\n",
    "import matplotlib.pyplot as plt"
   ]
  },
  {
   "cell_type": "code",
   "execution_count": 2,
   "id": "7c732d75",
   "metadata": {},
   "outputs": [],
   "source": [
    "def plot(x, y, x_label=None, y_label=None, title=None, name_save_file=None, points=None):\n",
    "    if title:\n",
    "        plt.title(title)\n",
    "    if x_label:\n",
    "        plt.xlabel(x_label)\n",
    "    if y_label:\n",
    "        plt.ylabel(y_label)\n",
    "    if points:\n",
    "        for point in points:\n",
    "            plt.scatter(*point, c=\"green\")\n",
    "    plt.plot(x, y)\n",
    "    plt.grid()\n",
    "    if name_save_file:\n",
    "        plt.savefig(name_save_file)\n",
    "    plt.show()\n",
    "\n",
    "def calc_mutual_inductance(coil_1, coil_2, d, po=0, fi=0):\n",
    "    mu0 = 4 * np.pi * 10 ** (-7)\n",
    "    mutual_inductance = np.ones((len(coil_1), len(coil_2)))\n",
    "    N = 90\n",
    "    K = 90\n",
    "    df1 = 2 * np.pi / N\n",
    "    df2 = 2 * np.pi / K\n",
    "    for ri in range(len(coil_1)):\n",
    "        for rj in range(len(coil_2)):\n",
    "            M = 0\n",
    "            for n in range(N):\n",
    "                for k in range(K):\n",
    "                    xk_xn = po + coil_1[ri] * np.cos(df2 * k) * np.cos(fi) - coil_2[rj] * np.cos(df1 * n)\n",
    "                    yk_yn = coil_1[ri] * np.sin(df2 * k) * np.cos(fi) - coil_2[rj] * np.sin(df1 * n)\n",
    "                    zk_zn = d + coil_1[ri] * np.cos(df2 * k) * np.sin(fi)\n",
    "                    r12 = (xk_xn ** 2 + yk_yn ** 2 + zk_zn ** 2) ** 0.5\n",
    "                    M += (np.cos(df2 * k - df1 * n) * df1 * df2) / r12\n",
    "            M *= mu0 * coil_1[ri] * coil_2[rj] / (4 * np.pi)\n",
    "            mutual_inductance[ri][rj] = M\n",
    "    return np.sum(mutual_inductance)\n",
    "\n",
    "def calc_self_inductance(coil, thin=0.001):\n",
    "    mu0 = 4 * np.pi * 10 ** (-7)\n",
    "    L = np.sum(mu0 * coil * (np.log(8 * coil / thin) - 7 / 4 + (thin ** 2) / (8 * coil ** 2) * (np.log(8 * coil / thin) + 1 / 3)))\n",
    "    mutual_inductance = np.ones((len(coil), len(coil)))\n",
    "    N = 90\n",
    "    K = 90\n",
    "    df1 = 2 * np.pi / N\n",
    "    df2 = 2 * np.pi / K\n",
    "    d = 0\n",
    "    po = 0\n",
    "    fi = 0\n",
    "    for ri in range(len(coil)):\n",
    "        for rj in range(len(coil)):\n",
    "            M = 0\n",
    "            if ri != rj:\n",
    "                for n in range(N):\n",
    "                    for k in range(K):\n",
    "                        xk_xn = po + coil[ri] * np.cos(df2 * k) * np.cos(fi) - coil[rj] * np.cos(df1 * n)\n",
    "                        yk_yn = coil[ri] * np.sin(df2 * k) * np.cos(fi) - coil[rj] * np.sin(df1 * n)\n",
    "                        zk_zn = d + coil[ri] * np.cos(df2 * k) * np.sin(fi)\n",
    "                        r12 = (xk_xn ** 2 + yk_yn ** 2 + zk_zn ** 2) ** 0.5\n",
    "                        M += (np.cos(df2 * k - df1 * n) * df1 * df2) / r12\n",
    "                M *= mu0 * coil[ri] * coil[rj] / (4 * np.pi)\n",
    "            mutual_inductance[ri][rj] = M\n",
    "    M = np.sum(mutual_inductance)\n",
    "    L += M\n",
    "    return L\n",
    "\n",
    "def calc_coupling_coefficient(coil_1, coil_2, d, po=0, fi=0):\n",
    "    M = calc_mutual_inductance(coil_1, coil_2, d, po=po, fi=fi)\n",
    "    L1 = calc_self_inductance(coil_1)\n",
    "    L2 = calc_self_inductance(coil_2)\n",
    "    k = M / (L1 * L2) ** 0.5\n",
    "    return k"
   ]
  },
  {
   "cell_type": "markdown",
   "id": "c1c6fd14",
   "metadata": {},
   "source": [
    "## Next ascent hill climbing в применении к поиску двух витков внутри катушки ##"
   ]
  },
  {
   "cell_type": "code",
   "execution_count": 3,
   "id": "c7f1c6f8",
   "metadata": {},
   "outputs": [],
   "source": [
    "# размеры витков для первой катушки индуктивности в метрах\n",
    "coil_1 = np.linspace(0.028, 0.07, 4)\n",
    "\n",
    "# радиус проволоки\n",
    "thin = 0.001\n",
    "\n",
    "start = 0.03 + 2 * thin\n",
    "finish = 0.09 - 2 * thin\n",
    "# размеры витков для второй катушки индуктивности в метрах\n",
    "coil_2 = np.array([0.03, start, finish, 0.09])\n",
    "\n",
    "# расстояние между катушками в метрах\n",
    "d = 0.005"
   ]
  },
  {
   "cell_type": "code",
   "execution_count": 4,
   "id": "32d09dd5",
   "metadata": {},
   "outputs": [],
   "source": [
    "def mutation(start, finish, x, r):\n",
    "    x = np.random.uniform(low = start if x - r < start else x - r,\n",
    "                          high = finish if x + r > finish else x + r)\n",
    "    return x\n",
    "\n",
    "\n",
    "# между витками одной катушки не должно быть пересечений\n",
    "def test_coils(coil, thin):\n",
    "    # между витками 2 и 3 катушки есть пересечение\n",
    "    if coil[1] > coil[2]:\n",
    "        if (coil[1] - coil[2] - 2 * thin) < 0:\n",
    "            return False\n",
    "    elif coil[2] > coil[1]:\n",
    "        if (coil[2] - coil[1] - 2 * thin) < 0:\n",
    "            return False\n",
    "    return True\n",
    "\n",
    "good_mutation = []\n",
    "bad_mutation = []\n",
    "all_mutation = []\n",
    "\n",
    "Q = 2\n",
    "band = 0.01\n",
    "thr_k = 1e-9"
   ]
  },
  {
   "cell_type": "code",
   "execution_count": 5,
   "id": "6d5a8892",
   "metadata": {},
   "outputs": [
    {
     "name": "stdout",
     "output_type": "stream",
     "text": [
      "Начальное значение катушки: [0.03       0.03948655 0.08332593 0.09      ]\n",
      "iter: 0 k = 0.5223866202397989, катушка = [0.03       0.03948655 0.08332593 0.09      ]\n",
      "iter: 1 k = 0.5283431109529756, катушка = [0.03       0.04082873 0.08332593 0.09      ]\n",
      "iter: 2 k = 0.5980740618688771, катушка = [0.03       0.04082873 0.07487722 0.09      ]\n",
      "iter: 3 k = 0.6209962127774518, катушка = [0.03       0.04238228 0.07271462 0.09      ]\n",
      "iter: 4 k = 0.6209962127774518, катушка = [0.03       0.04238228 0.07271462 0.09      ]\n",
      "iter: 5 k = 0.6439442035703895, катушка = [0.03       0.04335912 0.06535087 0.09      ]\n",
      "iter: 6 k = 0.6464693399276099, катушка = [0.03       0.04835507 0.06535087 0.09      ]\n",
      "iter: 7 k = 0.6464693399276099, катушка = [0.03       0.04835507 0.06535087 0.09      ]\n",
      "iter: 8 k = 0.6464693399276099, катушка = [0.03       0.04835507 0.06535087 0.09      ]\n",
      "iter: 9 k = 0.6469154314595168, катушка = [0.03       0.04835507 0.06623787 0.09      ]\n",
      "iter: 10 k = 0.6469154314595168, катушка = [0.03       0.04835507 0.06623787 0.09      ]\n",
      "iter: 11 k = 0.6469154314595168, катушка = [0.03       0.04835507 0.06623787 0.09      ]\n",
      "iter: 12 k = 0.6469154314595168, катушка = [0.03       0.04835507 0.06623787 0.09      ]\n",
      "iter: 13 k = 0.6469154314595168, катушка = [0.03       0.04835507 0.06623787 0.09      ]\n",
      "Есть пересечения внутри катушки! [0.03       0.05551065 0.0565799  0.09      ]\n",
      "iter: 14 k = 0.6534631980147007, катушка = [0.03       0.05551065 0.06623787 0.09      ]\n",
      "Есть пересечения внутри катушки! [0.03       0.05551065 0.05749115 0.09      ]\n",
      "iter: 15 k = 0.6534631980147007, катушка = [0.03       0.05551065 0.06623787 0.09      ]\n",
      "iter: 16 k = 0.6534631980147007, катушка = [0.03       0.05551065 0.06623787 0.09      ]\n",
      "iter: 17 k = 0.6534631980147007, катушка = [0.03       0.05551065 0.06623787 0.09      ]\n",
      "iter: 18 k = 0.6534631980147007, катушка = [0.03       0.05551065 0.06623787 0.09      ]\n",
      "iter: 19 k = 0.6549212112325349, катушка = [0.03       0.05451137 0.06845739 0.09      ]\n"
     ]
    }
   ],
   "source": [
    "coil_2[1] = mutation(start, finish, coil_2[1], band)\n",
    "coil_2[2] = mutation(start, finish, coil_2[2], band)\n",
    "print(\"Начальное значение катушки:\", coil_2)\n",
    "\n",
    "# while True:\n",
    "for i in range(20):\n",
    "    fit_k = calc_coupling_coefficient(coil_1, coil_2, d)\n",
    "    flag = False\n",
    "    for q in range(Q):\n",
    "        coil_2q = coil_2.copy()\n",
    "        coil_2q[1 + q] = mutation(start, finish, coil_2q[1 + q], band)\n",
    "        \n",
    "        # проверка на пересечение витков внутри катушки\n",
    "        while not test_coils(coil_2q, thin):\n",
    "            print(f\"Есть пересечения внутри катушки! {coil_2q}\")\n",
    "            coil_2q[1 + q] = mutation(start, finish, coil_2q[1 + q], band)\n",
    "        \n",
    "        fit_kq = calc_coupling_coefficient(coil_1, coil_2q, d)\n",
    "        \n",
    "        if fit_kq > fit_k:\n",
    "            coil_2 = coil_2q.copy()\n",
    "            fit_k = calc_coupling_coefficient(coil_1, coil_2, d)\n",
    "            flag = True\n",
    "            good_mutation.append((fit_kq, coil_2q))\n",
    "        else:\n",
    "            bad_mutation.append((fit_kq, coil_2q))\n",
    "        all_mutation.append((fit_kq, coil_2q))\n",
    "    print(f\"iter: {i} k = {fit_k}, катушка = {coil_2}\")"
   ]
  },
  {
   "cell_type": "code",
   "execution_count": 6,
   "id": "0ece0101",
   "metadata": {},
   "outputs": [
    {
     "name": "stdout",
     "output_type": "stream",
     "text": [
      "kmax = 0.6549212112325349; R2max = [0.03       0.05451137 0.06845739 0.09      ] м\n",
      "Количество полезных мутаций: 11\n",
      "Количество вредных мутаций: 29\n",
      "Всего мутаций: 40\n"
     ]
    }
   ],
   "source": [
    "print(f\"kmax = {fit_k}; R2max = {coil_2} м\")\n",
    "print(f\"Количество полезных мутаций: {len(good_mutation)}\")\n",
    "print(f\"Количество вредных мутаций: {len(bad_mutation)}\")\n",
    "print(f\"Всего мутаций: {len(all_mutation)}\")"
   ]
  },
  {
   "cell_type": "code",
   "execution_count": null,
   "id": "3b820f45",
   "metadata": {},
   "outputs": [],
   "source": []
  }
 ],
 "metadata": {
  "kernelspec": {
   "display_name": "Python 3 (ipykernel)",
   "language": "python",
   "name": "python3"
  },
  "language_info": {
   "codemirror_mode": {
    "name": "ipython",
    "version": 3
   },
   "file_extension": ".py",
   "mimetype": "text/x-python",
   "name": "python",
   "nbconvert_exporter": "python",
   "pygments_lexer": "ipython3",
   "version": "3.9.13"
  }
 },
 "nbformat": 4,
 "nbformat_minor": 5
}
